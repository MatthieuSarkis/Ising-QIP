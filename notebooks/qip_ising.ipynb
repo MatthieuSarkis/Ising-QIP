{
 "cells": [
  {
   "cell_type": "markdown",
   "metadata": {},
   "source": [
    "# Quantum Embedding of Ising configurations"
   ]
  },
  {
   "cell_type": "markdown",
   "metadata": {},
   "source": [
    "## Imports and random seed"
   ]
  },
  {
   "cell_type": "code",
   "execution_count": 5,
   "metadata": {},
   "outputs": [],
   "source": [
    "import os\n",
    "import random\n",
    "import numpy as np\n",
    "import glob\n",
    "from qiskit import QuantumCircuit, Aer, IBMQ, transpile, QuantumRegister, ClassicalRegister\n",
    "from qiskit.tools.jupyter import *\n",
    "from qiskit.utils import QuantumInstance\n",
    "from qiskit.result.counts import Counts\n",
    "from math import ceil, log2\n",
    "from typing import Dict, List\n",
    "\n",
    "from src.utils.train_test_split import train_test_split"
   ]
  },
  {
   "cell_type": "code",
   "execution_count": 6,
   "metadata": {},
   "outputs": [],
   "source": [
    "seed = 6\n",
    "os.environ['PYTHONHASHSEED'] = str(seed)\n",
    "random.seed(seed)\n",
    "np.random.seed(seed)"
   ]
  },
  {
   "cell_type": "markdown",
   "metadata": {},
   "source": [
    "## Importing the data"
   ]
  },
  {
   "cell_type": "code",
   "execution_count": 7,
   "metadata": {},
   "outputs": [],
   "source": [
    "# Size of the images, the number of qubits is 2 * ceil(log2(size_image)) + 1   (Height, Width and spin channel)\n",
    "image_size = 4\n",
    "# Ising infinite lattice size critical temperature\n",
    "statistical_control_parameter = 2.2692 \n",
    "\n",
    "with open('./data/ising/L={}/T={:.4f}.bin'.format(image_size, statistical_control_parameter), 'rb') as f:\n",
    "    X = np.frombuffer(buffer=f.read(), dtype=np.int8, offset=0).reshape(-1, image_size, image_size)\n",
    "\n",
    "idx = np.random.randint(X.shape[0])\n",
    "image = X[idx]"
   ]
  },
  {
   "cell_type": "code",
   "execution_count": 38,
   "metadata": {},
   "outputs": [],
   "source": [
    "image_size = 4\n",
    "dataset_size = 4\n",
    "\n",
    "images = []\n",
    "labels = []\n",
    "\n",
    "for file_path in glob.glob('./data/ising/L=16/*'):\n",
    "    with open(file_path, 'rb') as f:\n",
    "        X = np.frombuffer(buffer=f.read(), dtype=np.int8, offset=0).reshape(-1, image_size, image_size)\n",
    "        temperature = float(file_path.split('=')[-1].split('.bin')[0])\n",
    "        y = np.full(shape=(X.shape[0],), fill_value=temperature)\n",
    "\n",
    "        images.append(X)\n",
    "        labels.append(y)\n",
    "\n",
    "X = np.concatenate(images, axis=0)        \n",
    "y = np.concatenate(labels, axis=0)   \n",
    "\n",
    "# Permuting the dataset\n",
    "idx = np.random.permutation(X.shape[0])\n",
    "X = X[idx][:dataset_size]\n",
    "y = y[idx][:dataset_size]\n",
    "\n",
    "# Splitting train set into train and validation set\n",
    "X_train, y_train, X_test, y_test = train_test_split(X, y, validation_fraction=0.2)"
   ]
  },
  {
   "cell_type": "code",
   "execution_count": 45,
   "metadata": {},
   "outputs": [],
   "source": [
    "X1 = X[:2] \n",
    "X2 = X[2:]"
   ]
  },
  {
   "cell_type": "code",
   "execution_count": 46,
   "metadata": {},
   "outputs": [
    {
     "data": {
      "text/plain": [
       "array([[[ 1,  1, -1, -1],\n",
       "        [-1,  1,  1, -1],\n",
       "        [-1, -1, -1,  1],\n",
       "        [ 1,  1, -1, -1]],\n",
       "\n",
       "       [[ 1,  1, -1, -1],\n",
       "        [-1,  1,  1, -1],\n",
       "        [-1, -1, -1,  1],\n",
       "        [ 1,  1, -1, -1]],\n",
       "\n",
       "       [[ 1,  1, -1, -1],\n",
       "        [-1,  1,  1, -1],\n",
       "        [-1, -1, -1,  1],\n",
       "        [ 1,  1, -1, -1]],\n",
       "\n",
       "       [[-1, -1, -1, -1],\n",
       "        [-1, -1,  1, -1],\n",
       "        [-1, -1,  1,  1],\n",
       "        [-1, -1,  1, -1]]], dtype=int8)"
      ]
     },
     "execution_count": 46,
     "metadata": {},
     "output_type": "execute_result"
    }
   ],
   "source": [
    "X"
   ]
  },
  {
   "cell_type": "code",
   "execution_count": 47,
   "metadata": {},
   "outputs": [
    {
     "data": {
      "text/plain": [
       "array([[[ 1,  1, -1, -1],\n",
       "        [-1,  1,  1, -1],\n",
       "        [-1, -1, -1,  1],\n",
       "        [ 1,  1, -1, -1]],\n",
       "\n",
       "       [[-1, -1, -1, -1],\n",
       "        [-1, -1,  1, -1],\n",
       "        [-1, -1,  1,  1],\n",
       "        [-1, -1,  1, -1]]], dtype=int8)"
      ]
     },
     "execution_count": 47,
     "metadata": {},
     "output_type": "execute_result"
    }
   ],
   "source": [
    "X2"
   ]
  },
  {
   "cell_type": "markdown",
   "metadata": {},
   "source": [
    "## NEQR Quantum encoding"
   ]
  },
  {
   "cell_type": "code",
   "execution_count": 9,
   "metadata": {},
   "outputs": [],
   "source": [
    "def binary_formatting(\n",
    "    digit: int,\n",
    "    n_bits: int,\n",
    "    reverse: bool = False,\n",
    ") -> str:\n",
    "    r\"\"\"\n",
    "    Args:\n",
    "        digit (int): number whose binary representation we are computing\n",
    "        n_bits (int): number of bits used in the binary representation (to handle left trailing zeros)\n",
    "        reverse (bool): optionally return the binary representation of digit in reverse order (for qiskit convention)\n",
    "    Returns:\n",
    "        (str): binary representation of digit\n",
    "    \"\"\"\n",
    "\n",
    "    binary = format(digit, '0{}b'.format(n_bits))\n",
    "\n",
    "    if reverse:\n",
    "        binary = binary[::-1]\n",
    "\n",
    "    return binary"
   ]
  },
  {
   "cell_type": "code",
   "execution_count": 10,
   "metadata": {},
   "outputs": [],
   "source": [
    "side_qubits = ceil(log2(image_size))\n",
    "image_qubits = 2 * side_qubits\n",
    "total_qubits = image_qubits + 1"
   ]
  },
  {
   "cell_type": "markdown",
   "metadata": {},
   "source": [
    "We will assign |0> to a -1 spin and |1> to a +1 spin."
   ]
  },
  {
   "cell_type": "code",
   "execution_count": 11,
   "metadata": {},
   "outputs": [],
   "source": [
    "def image_to_circuit(\n",
    "    image: np.ndarray,\n",
    "    measure: bool = False,\n",
    ") -> QuantumCircuit:\n",
    "\n",
    "    image_size = image.shape[0]\n",
    "    side_qubits = ceil(log2(image_size))\n",
    "    image_qubits = 2 * side_qubits\n",
    "    total_qubits = image_qubits + 1\n",
    "\n",
    "    image_register = QuantumRegister(image_qubits, 'position')\n",
    "    spin_register = QuantumRegister(1,'spin')\n",
    "\n",
    "    if measure:\n",
    "        classical_register = ClassicalRegister(image_qubits + 1, 'classical register')\n",
    "        qc = QuantumCircuit(spin_register, image_register, classical_register)\n",
    "\n",
    "    else:\n",
    "        qc = QuantumCircuit(spin_register, image_register)\n",
    "\n",
    "    qc.i(0)\n",
    "    for i in range(1, image_register.size + 1):\n",
    "        qc.h(i)\n",
    "\n",
    "    qc.barrier()\n",
    "\n",
    "    for i in range(image_size):\n",
    "        for j in range(image_size):\n",
    "\n",
    "            if image[i, j] == 1:\n",
    "\n",
    "                binarized_i = binary_formatting(digit=i, n_bits=side_qubits, reverse=False)\n",
    "                binarized_j = binary_formatting(digit=j, n_bits=side_qubits, reverse=False)\n",
    "\n",
    "                flip_idx = []\n",
    "\n",
    "                for ii in range(side_qubits):\n",
    "                    if binarized_i[ii] == '1':\n",
    "                        flip_idx.append(ii+1)\n",
    "                        qc.x(ii+1)\n",
    "\n",
    "                for jj in range(side_qubits):\n",
    "                    if binarized_j[jj] == '1':\n",
    "                        flip_idx.append(jj+side_qubits+1)\n",
    "                        qc.x(jj+side_qubits+1)\n",
    "\n",
    "                qc.mcx(list(range(1, image_qubits+1)), 0, mode='noancilla')\n",
    "\n",
    "                for q in flip_idx:\n",
    "                    qc.x(q)\n",
    "\n",
    "                qc.barrier() \n",
    "\n",
    "    if measure:\n",
    "        qc.measure(range(total_qubits), range(total_qubits))\n",
    "\n",
    "    return qc"
   ]
  },
  {
   "cell_type": "code",
   "execution_count": 12,
   "metadata": {},
   "outputs": [
    {
     "name": "stdout",
     "output_type": "stream",
     "text": [
      "Circuit depth:  63\n",
      "Circuit size:  107\n"
     ]
    },
    {
     "data": {
      "text/plain": [
       "OrderedDict([('h', 32),\n",
       "             ('u3', 30),\n",
       "             ('cu1', 16),\n",
       "             ('barrier', 9),\n",
       "             ('rcccx', 8),\n",
       "             ('rcccx_dg', 8),\n",
       "             ('c3sx', 8),\n",
       "             ('u2', 4),\n",
       "             ('id', 1)])"
      ]
     },
     "execution_count": 12,
     "metadata": {},
     "output_type": "execute_result"
    }
   ],
   "source": [
    "qc = image_to_circuit(image=image, measure=False)\n",
    "print('Circuit depth: ', qc.decompose().depth())\n",
    "print('Circuit size: ', qc.decompose().size())\n",
    "qc.decompose().count_ops()"
   ]
  },
  {
   "cell_type": "code",
   "execution_count": 25,
   "metadata": {},
   "outputs": [
    {
     "data": {
      "text/plain": [
       "<qiskit.circuit.quantumcircuit.QuantumCircuit at 0x7fe4c038ba00>"
      ]
     },
     "execution_count": 25,
     "metadata": {},
     "output_type": "execute_result"
    }
   ],
   "source": [
    "qc.decompose()"
   ]
  },
  {
   "cell_type": "code",
   "execution_count": 13,
   "metadata": {},
   "outputs": [
    {
     "data": {
      "image/png": "[encoded data removed]",
      "text/plain": [
       "<Figure size 1660.97x686.28 with 1 Axes>"
      ]
     },
     "execution_count": 13,
     "metadata": {},
     "output_type": "execute_result"
    }
   ],
   "source": [
    "qc.draw(output='mpl')"
   ]
  },
  {
   "cell_type": "code",
   "execution_count": 21,
   "metadata": {},
   "outputs": [
    {
     "name": "stderr",
     "output_type": "stream",
     "text": [
      "/tmp/ipykernel_362007/2959390412.py:4: ComplexWarning: Casting complex values to real discards the imaginary part\n",
      "  state.data.astype('float32')\n"
     ]
    },
    {
     "data": {
      "text/plain": [
       "array([0.  , 0.25, 0.  , 0.25, 0.25, 0.  , 0.25, 0.  , 0.25, 0.  , 0.  ,\n",
       "       0.25, 0.25, 0.  , 0.  , 0.25, 0.25, 0.  , 0.  , 0.25, 0.25, 0.  ,\n",
       "       0.25, 0.  , 0.  , 0.25, 0.25, 0.  , 0.  , 0.25, 0.  , 0.25],\n",
       "      dtype=float32)"
      ]
     },
     "execution_count": 21,
     "metadata": {},
     "output_type": "execute_result"
    }
   ],
   "source": [
    "backend = Aer.get_backend('statevector_simulator')\n",
    "result = backend.run(qc).result()\n",
    "state = result.get_statevector(qc)\n",
    "state.data.astype('float32')\n"
   ]
  },
  {
   "cell_type": "code",
   "execution_count": 24,
   "metadata": {},
   "outputs": [
    {
     "data": {
      "text/plain": [
       "array([0.  , 0.25, 0.  , 0.25, 0.25, 0.  , 0.25, 0.  , 0.25, 0.  , 0.  ,\n",
       "       0.25, 0.25, 0.  , 0.  , 0.25, 0.25, 0.  , 0.  , 0.25, 0.25, 0.  ,\n",
       "       0.25, 0.  , 0.  , 0.25, 0.25, 0.  , 0.  , 0.25, 0.  , 0.25])"
      ]
     },
     "execution_count": 24,
     "metadata": {},
     "output_type": "execute_result"
    }
   ],
   "source": [
    "np.array([0.0, 0.25, 0.0, 0.25, 0.25, 0.0, 0.25, 0.0, 0.25, 0.0, 0.0,0.25, 0.25, 0.0, 0.0, 0.25, 0.25, 0.0, 0.0, 0.25, 0.25, 0.0,0.25, 0.0, 0.0, 0.25, 0.25, 0.0, 0.0, 0.25, 0.0, 0.25], dtype=np.float64)"
   ]
  },
  {
   "cell_type": "code",
   "execution_count": 10,
   "metadata": {},
   "outputs": [],
   "source": [
    "def counts_to_statevector(\n",
    "    counts: Dict[str, int],\n",
    "    num_qubits: int,\n",
    ") -> np.ndarray:\n",
    "    \n",
    "    statevector = np.zeros(shape=(2**num_qubits,))\n",
    "    for key, value in counts.items():\n",
    "        statevector[int(key, 2)] = value\n",
    "    statevector = statevector / np.linalg.norm(statevector)\n",
    "    return statevector\n",
    "\n",
    "def statevector_to_densitymatrix(\n",
    "    statevector: np.ndarray\n",
    ") -> np.ndarray:\n",
    "    r\"\"\"\n",
    "    Args:\n",
    "        statevector (np.ndarray): statevector corresponding to a pure state\n",
    "    Return:\n",
    "        (np.ndarray): density matrix corresponding to the pure state statevector\n",
    "    \"\"\"\n",
    "\n",
    "    density_matrix = np.outer(statevector, statevector)\n",
    "    return density_matrix\n",
    "\n",
    "def images_to_quantumstate(\n",
    "    image_batch: np.ndarray,\n",
    "    from_counts: bool = False,\n",
    "    to_real: bool = False,\n",
    "    output_densitymatrices: bool = False\n",
    ") -> List[np.ndarray]:\n",
    "    r\"\"\"\n",
    "    Args:\n",
    "        image_batch (np.ndarray): batch of images whose quantum representation we are computing\n",
    "        from_counts (np.ndarray): whether or not to reconstruct the output statevector statistically from counts or not\n",
    "        to_real (bool): whether or not to cast the complex components of statevector to real ones\n",
    "        output_densitymatrices (bool): whether to output the density matrices of the statevectors\n",
    "    Return:\n",
    "        (List[np.ndarray]): batch of density matrix representation of the images\n",
    "    \"\"\"\n",
    "\n",
    "    backend = Aer.get_backend('statevector_simulator')\n",
    "    bounds = []\n",
    "    num_qubits = 2 * ceil(log2(image_batch.shape[-1])) + 1\n",
    "\n",
    "    for i in range(image_batch.shape[0]):\n",
    "        q = image_to_circuit(image=image_batch[i], measure=True if from_counts else False)\n",
    "        bounds.append(q)\n",
    "        \n",
    "    qc = transpile(bounds, backend)\n",
    "\n",
    "    if from_counts:\n",
    "        qi = QuantumInstance(backend, seed_transpiler=42, seed_simulator=42, shots=2048)\n",
    "        result = qi.execute(circuits=qc, had_transpiled=True)\n",
    "        counts = result.get_counts()\n",
    "\n",
    "        # Handle the case of a batch containing a single image\n",
    "        if type(counts) == Counts:\n",
    "            counts = [counts]\n",
    "\n",
    "        if to_real:\n",
    "            import warnings\n",
    "            with warnings.catch_warnings():\n",
    "                warnings.simplefilter(\"ignore\")\n",
    "                statevector = [counts_to_statevector(counts[ind], num_qubits).astype('float32') for ind in range(len(counts))]\n",
    "        else:\n",
    "            statevector = [counts_to_statevector(counts[ind], num_qubits) for ind in range(len(counts))]\n",
    "\n",
    "    else:\n",
    "        qi = QuantumInstance(backend, seed_transpiler=42, seed_simulator=42)\n",
    "        result = qi.execute(circuits=qc, had_transpiled=True)\n",
    "\n",
    "        if to_real:\n",
    "            import warnings\n",
    "            with warnings.catch_warnings():\n",
    "                warnings.simplefilter(\"ignore\")\n",
    "                statevector = [result.get_statevector(i).astype('float32') for ind in range(len(bounds))]\n",
    "        else:\n",
    "            statevector = [result.get_statevector(i) for i in range(len(bounds))]\n",
    "\n",
    "    statevector = np.stack(statevector)\n",
    "\n",
    "    if output_densitymatrices:\n",
    "        densitymatrices = np.einsum('ab,ac->abc', statevector, statevector)\n",
    "        return densitymatrices\n",
    "\n",
    "    else:\n",
    "        return statevector"
   ]
  },
  {
   "cell_type": "code",
   "execution_count": 10,
   "metadata": {},
   "outputs": [],
   "source": [
    "batch_size = 200\n",
    "\n",
    "idx = 1\n",
    "for i in range(0, X_train.shape[0], batch_size):\n",
    "    statevector_train = images_to_quantumstate(image_batch=X_train[i: i+batch_size], from_counts=False, to_real=True, output_densitymatrices=False)\n",
    "    with open('./data/ising/preprocessed/statevector_L=16_train_{}.npy'.format(idx), 'wb') as f:\n",
    "        np.save(f, statevector_train)\n",
    "    idx += 1\n",
    "\n",
    "idx = 1\n",
    "for i in range(0, X_test.shape[0], batch_size):\n",
    "    statevector_test = images_to_quantumstate(image_batch=X_test[i: i+batch_size], from_counts=False, to_real=True, output_densitymatrices=False)\n",
    "    with open('./data/ising/preprocessed/statevector_L=16_test_{}.npy'.format(idx), 'wb') as f:\n",
    "        np.save(f, statevector_test)\n",
    "    idx += 1\n",
    "\n",
    "with open('./data/ising/preprocessed/label_L=16_train.npy', 'wb') as f:\n",
    "    np.save(f, y_train)\n",
    "with open('./data/ising/preprocessed/label_L=16_test.npy', 'wb') as f:\n",
    "    np.save(f, y_test)"
   ]
  },
  {
   "cell_type": "code",
   "execution_count": 52,
   "metadata": {},
   "outputs": [],
   "source": [
    "def quantum_kernel_estimation(\n",
    "    X1: np.ndarray,\n",
    "    X2: np.ndarray,\n",
    "    from_counts: bool = False,\n",
    ") -> np.ndarray:\n",
    "    r\"\"\"Return the quantum Gram matrix  \n",
    "    \"\"\"\n",
    "\n",
    "    backend = Aer.get_backend('statevector_simulator')\n",
    "    num_qubits = 2 * ceil(log2(X1.shape[-1])) + 1\n",
    "\n",
    "    bounds1 = []\n",
    "    for i in range(X1.shape[0]):\n",
    "        q = image_to_circuit(image=X1[i], measure=False)\n",
    "        bounds1.append(q)\n",
    "\n",
    "    bounds2 = []\n",
    "    for i in range(X2.shape[0]):\n",
    "        q = image_to_circuit(image=X2[i], measure=False)\n",
    "        bounds2.append(q)\n",
    "\n",
    "    circuits = []\n",
    "    for c1 in bounds1:\n",
    "        for c2 in bounds2:\n",
    "            c = c2.compose(c1.inverse())\n",
    "            if from_counts:\n",
    "                c = c.measure_all(inplace=False)\n",
    "            circuits.append(c)\n",
    "\n",
    "    qc = transpile(circuits, backend)\n",
    "\n",
    "    if from_counts:\n",
    "        shots = 1024\n",
    "        qi = QuantumInstance(backend, seed_transpiler=42, seed_simulator=42, shots=shots)\n",
    "        result = qi.execute(circuits=qc, had_transpiled=True)\n",
    "        counts = result.get_counts()\n",
    "        # Handle the case of a batch containing a single image\n",
    "        if type(counts) == Counts:\n",
    "            counts = [counts]\n",
    "\n",
    "        gram = [count[num_qubits*'0'] / shots for count in counts] \n",
    "        gram = np.array(gram)\n",
    "\n",
    "    else:\n",
    "        computational_basis_vector = np.zeros(shape=(2**num_qubits,))\n",
    "        computational_basis_vector[0] = 1\n",
    "        qi = QuantumInstance(backend, seed_transpiler=42, seed_simulator=42)\n",
    "        result = qi.execute(circuits=qc, had_transpiled=True)\n",
    "        statevector = [np.real(result.get_statevector(i)) for i in range(len(circuits))]\n",
    "        statevector = np.stack(statevector)\n",
    "        gram = np.einsum('a,ba->b', computational_basis_vector, statevector)**2 # One has to square the amplitudes to get the probabilities\n",
    "    \n",
    "    gram = gram.reshape((X1.shape[0], X2.shape[0]))**2 # There is an extra square |<psi1|psi2>|^2\n",
    "\n",
    "\n",
    "\n",
    "    return np.exp(-gram)"
   ]
  },
  {
   "cell_type": "code",
   "execution_count": 34,
   "metadata": {},
   "outputs": [
    {
     "data": {
      "text/plain": [
       "array([[ 1, -1, -1, -1],\n",
       "       [-1, -1,  1,  1],\n",
       "       [ 1, -1, -1, -1],\n",
       "       [ 1,  1,  1,  1]], dtype=int8)"
      ]
     },
     "execution_count": 34,
     "metadata": {},
     "output_type": "execute_result"
    }
   ],
   "source": [
    "X2"
   ]
  },
  {
   "cell_type": "code",
   "execution_count": 53,
   "metadata": {},
   "outputs": [
    {
     "data": {
      "text/plain": [
       "array([[0.90473525, 0.72876333],\n",
       "       [0.72876333, 0.79979172]])"
      ]
     },
     "execution_count": 53,
     "metadata": {},
     "output_type": "execute_result"
    }
   ],
   "source": [
    "X1 = np.array([\n",
    "            [[ 1, -1, -1, -1],\n",
    "             [-1, -1,  1, -1],\n",
    "             [ 1,  1,  1,  1],\n",
    "             [ 1,  1,  1,  1]],\n",
    "\n",
    "            [[ 1,  1,  1,  1],\n",
    "             [-1, -1,  1,  1],\n",
    "             [ 1, -1,  1,  1],\n",
    "             [ 1,  1,  1,  1]]], dtype=np.int8)\n",
    "\n",
    "X2 = np.array([\n",
    "    [[ 1,  1,  1,  1],\n",
    "     [-1, -1, -1, -1],\n",
    "     [-1, -1, -1,  1],\n",
    "     [ 1,  1,  1,  1]],\n",
    "    [[ 1, -1, -1, -1],\n",
    "     [-1, -1,  1,  1],\n",
    "     [ 1, -1, -1, -1],\n",
    "     [ 1,  1,  1,  1]]], dtype=np.int8)\n",
    "\n",
    "quantum_kernel_estimation(X1, X2)"
   ]
  },
  {
   "cell_type": "markdown",
   "metadata": {},
   "source": [
    "## Temperature prediction"
   ]
  },
  {
   "cell_type": "code",
   "execution_count": 12,
   "metadata": {},
   "outputs": [
    {
     "data": {
      "text/plain": [
       "(4000, 4, 4)"
      ]
     },
     "execution_count": 12,
     "metadata": {},
     "output_type": "execute_result"
    }
   ],
   "source": []
  },
  {
   "cell_type": "markdown",
   "metadata": {},
   "source": []
  }
 ],
 "metadata": {
  "kernelspec": {
   "display_name": "Python 3.8.10 ('.env': venv)",
   "language": "python",
   "name": "python3"
  },
  "language_info": {
   "codemirror_mode": {
    "name": "ipython",
    "version": 3
   },
   "file_extension": ".py",
   "mimetype": "text/x-python",
   "name": "python",
   "nbconvert_exporter": "python",
   "pygments_lexer": "ipython3",
   "version": "3.8.10"
  },
  "orig_nbformat": 4,
  "vscode": {
   "interpreter": {
    "hash": "33961fe1d30a6980b63fb3ee9f06858e7549d0e07d79c812b15b89535314c286"
   }
  }
 },
 "nbformat": 4,
 "nbformat_minor": 2
}
