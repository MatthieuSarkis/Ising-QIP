{
    "cells": [
     {
      "cell_type": "code",
      "execution_count": 1,
      "metadata": {},
      "outputs": [],
      "source": [
       "import numpy as np\n",
       "import matplotlib.pyplot as plt\n",
       "%matplotlib inline"
      ]
     },
     {
      "cell_type": "code",
      "execution_count": 4,
      "metadata": {},
      "outputs": [],
      "source": [
       "def plot_paths(paths, labels, xlabel='$epoch$', ylabel=r'$\\theta$', ndim=2):\n",
       "    \n",
       "    markers = ('o', '^', 'd', 's', 'p', 'h', '*', '>', '<', 'v', '+', 'h', 'x')\n",
       "    \n",
       "    i = 0\n",
       "    for path, label in zip(paths,labels):\n",
       "        if ndim == 2:\n",
       "            plt.plot(path[:,0], path[:,1], label=label, \n",
       "                     marker='.', lw=0.5, markersize=4,) #markers[i]\n",
       "        elif ndim == 1:\n",
       "            plt.plot(path[:,0], label=label, \n",
       "                     marker='.', lw=0.5, markersize=4,)\n",
       "\n",
       "        i += 1\n",
       "    \n",
       "    plt.xlabel(xlabel, fontsize=17)\n",
       "    plt.ylabel(ylabel, fontsize=17)\n",
       "    plt.legend(loc='best')"
      ]
     },
     {
      "cell_type": "code",
      "execution_count": 5,
      "metadata": {},
      "outputs": [],
      "source": [
       "def hypothesis_function(X, theta):\n",
       "    return X.dot(theta)\n",
       "\n",
       "def error_function(y_hat, y):\n",
       "    N = y.shape[0]\n",
       "    return 1 / N * (y_hat - y).T.dot(y_hat - y)\n",
       "\n",
       "def cost_function(X, theta, y):\n",
       "    y_hat = hypothesis_function(X, theta)\n",
       "    return error_function(y_hat, y)\n",
       "\n",
       "def quartic_error_function(y_hat, y):\n",
       "    \"\"\"\n",
       "        f(x) = 0.5 \\sum_i (x_i^4 - 16x_i^2 + 5x_i)\n",
       "    \"\"\"\n",
       "    N = y.shape[0]\n",
       "    deltay = y_hat - y\n",
       "    deltay2 = deltay.T.dot(deltay)\n",
       "    deltay4 = deltay2 ** 2\n",
       "    \n",
       "    return 1 / N * 0.5 * (deltay4 - 16*deltay2 + 5*np.sum(deltay))\n",
       "\n",
       "def quartic_cost_function(X, theta, y):\n",
       "    y_hat = hypothesis_function(X, theta)\n",
       "    return quartic_error_function(y_hat, y)"
      ]
     },
     {
      "cell_type": "code",
      "execution_count": 6,
      "metadata": {},
      "outputs": [],
      "source": [
       "def minibatch_gradient_descent(X, y, n_epochs=100, minibatch_size=20):\n",
       "    \n",
       "    def learning_schedule(t, t0=5, t1=50):\n",
       "        return t0 / (t + t1)\n",
       "    \n",
       "    N, D = X.shape\n",
       "    K = y.shape[1]\n",
       "    \n",
       "    theta_path, J_path = [], []\n",
       "    \n",
       "    theta = np.random.randn(D, 1)\n",
       "\n",
       "    t = 0\n",
       "    for epoch in range(n_epochs):\n",
       "        shuffled_indices = np.random.permutation(N)\n",
       "        X_shuffled = X[shuffled_indices]\n",
       "        y_shuffled = y[shuffled_indices]\n",
       "        \n",
       "        for i in range(0, N, minibatch_size):\n",
       "            t += 1\n",
       "\n",
       "            xi = X_shuffled[i:i+minibatch_size]\n",
       "            yi = y_shuffled[i:i+minibatch_size]\n",
       "\n",
       "            yi_hat = hypothesis_function(xi, theta)\n",
       "\n",
       "            gradients = 2 / minibatch_size * xi.T.dot(yi_hat - yi)\n",
       "            eta = learning_schedule(t)\n",
       "            theta = theta - eta * gradients\n",
       "            \n",
       "        # end for i\n",
       "\n",
       "        J = error_function(yi_hat, yi)\n",
       "        theta_path.append(theta)\n",
       "        J_path.append(J)\n",
       "        \n",
       "    # end for epoch\n",
       "    \n",
       "    return np.array(theta_path).reshape(-1,D), np.array(J_path).reshape((-1,K))"
      ]
     },
     {
      "cell_type": "code",
      "execution_count": 8,
      "metadata": {},
      "outputs": [],
      "source": [
       "def stochastic_gradient_descent(X, y, n_epochs=100, eta=0.1):\n",
       "    \n",
       "    def learning_schedule(t, t0=5, t1=50):\n",
       "        return t0 / (t + t1)\n",
       "    \n",
       "    N, D = X.shape\n",
       "    K = y.shape[1]\n",
       "    \n",
       "    theta_path, J_path = [], []\n",
       "    \n",
       "    theta = np.random.randn(D, 1)\n",
       "\n",
       "    t = 0\n",
       "    for epoch in range(n_epochs):\n",
       "        for i in range(N):\n",
       "            t += 1\n",
       "            rand_index = np.random.randint(N)\n",
       "            xi = X[rand_index:rand_index+1]\n",
       "            yi = y[rand_index:rand_index+1]\n",
       "\n",
       "            yi_hat = hypothesis_function(xi, theta)\n",
       "\n",
       "            gradients = 2 * xi.T.dot(yi_hat - yi)\n",
       "            eta = learning_schedule(t)\n",
       "            theta = theta - eta * gradients   \n",
       "        # end for i\n",
       "        \n",
       "           \n",
       "        J = error_function(yi_hat, yi)\n",
       "        theta_path.append(theta)\n",
       "        J_path.append(J)\n",
       "        \n",
       "    \n",
       "    # end for epoch\n",
       "    \n",
       "    return np.array(theta_path).reshape(-1,D), np.array(J_path).reshape((-1,K))\n",
       "\n"
      ]
     },
     {
      "cell_type": "code",
      "execution_count": 12,
      "metadata": {},
      "outputs": [
       {
        "data": {
         "image/png": "[encoded data removed]",
         "text/plain": [
          "<Figure size 432x288 with 1 Axes>"
         ]
        },
        "metadata": {
         "needs_background": "light"
        },
        "output_type": "display_data"
       }
      ],
      "source": [
       "np.random.seed(42)\n",
       "\n",
       "N = 1000\n",
       "X = 2 * np.random.rand(N, 1)\n",
       "y = 4 + 3 * X + np.random.randn(N,1)\n",
       "X_b = np.c_[np.ones((N, 1)), X]\n",
       "\n",
       "#plt.plot(X, y, 'b.')\n",
       "\n",
       "theta_path_sgd, J_path_sgd = stochastic_gradient_descent(X_b, y)\n",
       "theta_path_mbg, J_path_mbg = minibatch_gradient_descent(X_b, y)\n",
       "\n",
       "plt.figure(1)\n",
       "plt.xlim(3.8, 4.3)\n",
       "plt.ylim(2.8, 3.3)\n",
       "plot_paths([theta_path_sgd, theta_path_mbg], ['Stochastic', 'Mini-batch'])"
      ]
     },
     {
      "cell_type": "code",
      "execution_count": 13,
      "metadata": {},
      "outputs": [
       {
        "data": {
         "text/plain": [
          "'0'"
         ]
        },
        "execution_count": 13,
        "metadata": {},
        "output_type": "execute_result"
       }
      ],
      "source": [
       "'{:b}'.format(0)"
      ]
     },
     {
      "cell_type": "code",
      "execution_count": 19,
      "metadata": {},
      "outputs": [
       {
        "data": {
         "text/plain": [
          "'10011000000'"
         ]
        },
        "execution_count": 19,
        "metadata": {},
        "output_type": "execute_result"
       }
      ],
      "source": [
       "format(25, '0{}b'.format(11))[::-1]"
      ]
     },
     {
      "cell_type": "code",
      "execution_count": 20,
      "metadata": {},
      "outputs": [
       {
        "data": {
         "text/plain": [
          "array([[0.36787944, 0.03019738],\n",
          "       [0.11080316, 0.0008251 ]])"
         ]
        },
        "execution_count": 20,
        "metadata": {},
        "output_type": "execute_result"
       }
      ],
      "source": [
       "np.exp(-1.0 * np.array([[1.0, 3.5], [2.2, 7.1]]))"
      ]
     },
     {
      "cell_type": "code",
      "execution_count": null,
      "metadata": {},
      "outputs": [],
      "source": [
       "def merge_sort(mylist, start=0, end=-1):\n",
       "\n",
       "    n = len(mylist)\n",
       "    if n == 1:\n",
       "        return mylist\n",
       "    elif n == 2:\n",
       "\n",
       "\n",
       "    a = merge_sort(mylist, 0, n//2)\n",
       "    b = merge_sort(mylist, n//2, -1)\n",
       "\n"
      ]
     }
    ],
    "metadata": {
     "kernelspec": {
      "display_name": "Python 3.8.10 ('.env': venv)",
      "language": "python",
      "name": "python3"
     },
     "language_info": {
      "codemirror_mode": {
       "name": "ipython",
       "version": 3
      },
      "file_extension": ".py",
      "mimetype": "text/x-python",
      "name": "python",
      "nbconvert_exporter": "python",
      "pygments_lexer": "ipython3",
      "version": "3.8.10"
     },
     "orig_nbformat": 4,
     "vscode": {
      "interpreter": {
       "hash": "33961fe1d30a6980b63fb3ee9f06858e7549d0e07d79c812b15b89535314c286"
      }
     }
    },
    "nbformat": 4,
    "nbformat_minor": 2
   }
