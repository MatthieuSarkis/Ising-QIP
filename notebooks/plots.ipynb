{
 "cells": [
  {
   "cell_type": "code",
   "execution_count": 1,
   "metadata": {},
   "outputs": [],
   "source": [
    "import os\n",
    "import random\n",
    "import numpy as np\n",
    "import glob\n",
    "import matplotlib.pyplot as plt\n",
    "%matplotlib inline"
   ]
  },
  {
   "cell_type": "code",
   "execution_count": 2,
   "metadata": {},
   "outputs": [],
   "source": [
    "seed = 6\n",
    "os.environ['PYTHONHASHSEED'] = str(seed)\n",
    "random.seed(seed)\n",
    "np.random.seed(seed)"
   ]
  },
  {
   "cell_type": "code",
   "execution_count": 3,
   "metadata": {},
   "outputs": [],
   "source": [
    "image_size = 4\n",
    "dataset_size = 4\n",
    "\n",
    "images = []\n",
    "labels = []\n",
    "\n",
    "for file_path in glob.glob('./data/ising/L={}/*'.format(image_size)):\n",
    "    with open(file_path, 'rb') as f:\n",
    "        X = np.frombuffer(buffer=f.read(), dtype=np.int8, offset=0).reshape(-1, image_size, image_size)\n",
    "        temperature = float(file_path.split('=')[-1].split('.bin')[0])\n",
    "        y = np.full(shape=(X.shape[0],), fill_value=temperature)\n",
    "\n",
    "        images.append(X)\n",
    "        labels.append(y)\n",
    "\n",
    "X = np.concatenate(images, axis=0)        \n",
    "y = np.concatenate(labels, axis=0)   \n",
    "\n",
    "# Permuting the dataset\n",
    "idx = np.random.permutation(X.shape[0])\n",
    "X = X[idx][:dataset_size]\n",
    "y = y[idx][:dataset_size]"
   ]
  },
  {
   "cell_type": "code",
   "execution_count": 8,
   "metadata": {},
   "outputs": [
    {
     "data": {
      "image/png": "[encoded data removed]",
      "text/plain": [
       "<Figure size 432x288 with 1 Axes>"
      ]
     },
     "metadata": {
      "needs_background": "light"
     },
     "output_type": "display_data"
    }
   ],
   "source": [
    "def heatmap(data, row_labels, col_labels, ax=None, **kwargs):\n",
    "\n",
    "    if not ax:\n",
    "        ax = plt.gca()\n",
    "\n",
    "    # Plot the heatmap\n",
    "    im = ax.imshow(data, **kwargs)\n",
    "\n",
    "    # Show all ticks and label them with the respective list entries.\n",
    "    ax.set_xticks(np.arange(data.shape[1]), labels=col_labels)\n",
    "    ax.set_yticks(np.arange(data.shape[0]), labels=row_labels)\n",
    "\n",
    "    # Let the horizontal axes labeling appear on top.\n",
    "    ax.tick_params(top=True, bottom=False, labeltop=True, labelbottom=False)\n",
    "\n",
    "    # Rotate the tick labels and set their alignment.\n",
    "    plt.setp(ax.get_xticklabels(), ha=\"center\")\n",
    "\n",
    "    # Turn spines off and create white grid.\n",
    "    ax.spines[:].set_visible(False)\n",
    "\n",
    "    ax.set_xticks(np.arange(data.shape[1]+1)-.5, minor=True)\n",
    "    ax.set_yticks(np.arange(data.shape[0]+1)-.5, minor=True)\n",
    "    ax.grid(which=\"minor\", color=\"grey\", linestyle='-', linewidth=3)\n",
    "    ax.tick_params(which=\"minor\", bottom=False, left=False)\n",
    "\n",
    "    return im\n",
    "\n",
    "xlab = [r'$|00\\rangle$', r'$|01\\rangle$', r'$|10\\rangle$', r'$|11\\rangle$']\n",
    "ylab = [r'$|00\\rangle$', r'$|01\\rangle$', r'$|10\\rangle$', r'$|11\\rangle$']\n",
    " \n",
    "fig, ax = plt.subplots()\n",
    "im = heatmap(X[2], xlab, ylab, ax=ax, cmap=plt.cm.gray, )\n",
    "\n",
    "fig.tight_layout()\n",
    "plt.savefig(\"ising.pdf\", bbox_inches =\"tight\")"
   ]
  },
  {
   "cell_type": "code",
   "execution_count": null,
   "metadata": {},
   "outputs": [],
   "source": []
  },
  {
   "cell_type": "code",
   "execution_count": null,
   "metadata": {},
   "outputs": [],
   "source": []
  }
 ],
 "metadata": {
  "kernelspec": {
   "display_name": "Python 3.8.10 ('.env': venv)",
   "language": "python",
   "name": "python3"
  },
  "language_info": {
   "codemirror_mode": {
    "name": "ipython",
    "version": 3
   },
   "file_extension": ".py",
   "mimetype": "text/x-python",
   "name": "python",
   "nbconvert_exporter": "python",
   "pygments_lexer": "ipython3",
   "version": "3.8.10"
  },
  "orig_nbformat": 4,
  "vscode": {
   "interpreter": {
    "hash": "33961fe1d30a6980b63fb3ee9f06858e7549d0e07d79c812b15b89535314c286"
   }
  }
 },
 "nbformat": 4,
 "nbformat_minor": 2
}
