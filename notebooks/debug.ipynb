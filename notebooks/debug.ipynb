{
 "cells": [
  {
   "cell_type": "code",
   "execution_count": null,
   "metadata": {},
   "outputs": [],
   "source": [
    "from argparse import ArgumentParser\n",
    "import os\n",
    "import glob\n",
    "import numpy as np\n",
    "import warnings\n",
    "warnings.filterwarnings(\"ignore\")\n",
    "from typing import Tuple, List\n",
    "\n",
    "from src.kernel_ridge_regression.abstract_kernels.kernel_ridge_regression import KernelRidgeRegression\n",
    "from src.kernel_ridge_regression.kernels.classical_kernel import Gaussian\n",
    "from src.kernel_ridge_regression.kernels.quantum_kernel import Quantum_Kernel\n",
    "from src.kernel_ridge_regression.grid import Grid\n",
    "from src.utils.train_test_split import train_test_split"
   ]
  },
  {
   "cell_type": "code",
   "execution_count": null,
   "metadata": {},
   "outputs": [],
   "source": [
    "def load_data(\n",
    "    image_size: int = 16,\n",
    "    dataset_size = 5000\n",
    ") -> Tuple[np.ndarray, np.ndarray, np.ndarray, np.ndarray]:\n",
    "\n",
    "    images = []\n",
    "    labels = []\n",
    "\n",
    "    for file_path in glob.glob('./data/ising/L={}/*'.format(image_size)):\n",
    "        with open(file_path, 'rb') as f:\n",
    "            X = np.frombuffer(buffer=f.read(), dtype=np.int8, offset=0).reshape(-1, image_size, image_size)\n",
    "            temperature = float(file_path.split('=')[-1].split('.bin')[0])\n",
    "            y = np.full(shape=(X.shape[0],), fill_value=temperature)\n",
    "\n",
    "            images.append(X)\n",
    "            labels.append(y)\n",
    "\n",
    "    X = np.concatenate(images, axis=0)\n",
    "    y = np.concatenate(labels, axis=0)\n",
    "\n",
    "    # Permuting the dataset\n",
    "    idx = np.random.permutation(X.shape[0])\n",
    "    X = X[idx][:dataset_size]\n",
    "    y = y[idx][:dataset_size]\n",
    "\n",
    "    # Splitting train set into train and validation set\n",
    "    X_train, y_train, X_test, y_test = train_test_split(X, y, validation_fraction=0.2)\n",
    "\n",
    "    return X_train, y_train, X_test, y_test\n",
    "\n",
    "def make_grid(\n",
    "    feature_dim: int,\n",
    "    variance_data: float,\n",
    ") -> Tuple[List[float], List[float]]:\n",
    "\n",
    "    SIGMA = [2.0**k for k in range(5, 7)]\n",
    "    RIDGE_PARAMETER = map(lambda x: x / (feature_dim * variance_data), [0.5, 1.0, 3.0, 5.0, 20.0]) # careful with normalization, should go to the num in our convention (1/sigma^2 vs. gamma in scikit-learn)\n",
    "    #RIDGE_PARAMETER = map(lambda x: x / (feature_dim * variance_data), [0.5]) # careful with normalization, should go to the num in our convention (1/sigma^2 vs. gamma in scikit-learn)\n",
    "\n",
    "    return SIGMA, RIDGE_PARAMETER\n",
    "\n",
    "\n",
    "def instantiate_regressor() -> KernelRidgeRegression:\n",
    "\n",
    "    regressor = Gaussian()\n",
    "\n",
    "    return regressor"
   ]
  },
  {
   "cell_type": "code",
   "execution_count": null,
   "metadata": {},
   "outputs": [],
   "source": [
    "# Load the data\n",
    "X_train, y_train, X_val, y_val = load_data(image_size=4, dataset_size=10)\n",
    "# Instanciate the regressor and the grid\n",
    "SIGMA, RIDGE_PARAMETER = make_grid(feature_dim=X_train.shape[1], variance_data=np.var(X_train))\n",
    "regressor = instantiate_regressor()\n",
    "grid = Grid(regressor=regressor, ridge_parameter=RIDGE_PARAMETER, sigma=SIGMA, save_directory='./temp')\n",
    "# Run the grid search\n",
    "grid.fit(X_train, y_train, X_val, y_val)"
   ]
  }
 ],
 "metadata": {
  "kernelspec": {
   "display_name": "Python 3.8.10 ('.env': venv)",
   "language": "python",
   "name": "python3"
  },
  "language_info": {
   "name": "python",
   "version": "3.8.10"
  },
  "orig_nbformat": 4,
  "vscode": {
   "interpreter": {
    "hash": "33961fe1d30a6980b63fb3ee9f06858e7549d0e07d79c812b15b89535314c286"
   }
  }
 },
 "nbformat": 4,
 "nbformat_minor": 2
}
