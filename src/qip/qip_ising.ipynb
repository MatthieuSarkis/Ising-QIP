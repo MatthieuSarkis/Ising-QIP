{
 "cells": [
  {
   "cell_type": "markdown",
   "metadata": {},
   "source": [
    "# Quantum Embedding of Ising configurations"
   ]
  },
  {
   "cell_type": "markdown",
   "metadata": {},
   "source": [
    "## Imports and random seed"
   ]
  },
  {
   "cell_type": "code",
   "execution_count": 41,
   "metadata": {},
   "outputs": [],
   "source": [
    "import os\n",
    "import random\n",
    "import numpy as np\n",
    "from qiskit import QuantumCircuit, Aer, IBMQ\n",
    "from qiskit import transpile, assemble\n",
    "from qiskit.tools.jupyter import *\n",
    "from qiskit.visualization import plot_histogram\n",
    "from qiskit import QuantumRegister, ClassicalRegister\n",
    "from math import ceil, log2"
   ]
  },
  {
   "cell_type": "code",
   "execution_count": 36,
   "metadata": {},
   "outputs": [],
   "source": [
    "seed = 42\n",
    "os.environ['PYTHONHASHSEED'] = str(seed)\n",
    "random.seed(seed)\n",
    "np.random.seed(seed)"
   ]
  },
  {
   "cell_type": "markdown",
   "metadata": {},
   "source": [
    "## Importing the data"
   ]
  },
  {
   "cell_type": "code",
   "execution_count": 45,
   "metadata": {},
   "outputs": [],
   "source": [
    "# Size of the images, the number of qubits is 2 * ceil(log2(size_image)) + 1   (Height, Width and spin channel)\n",
    "image_size = 2\n",
    "# Ising infinite lattice size critical temperature\n",
    "statistical_control_parameter = 2.2692 \n",
    "\n",
    "with open('./data/ising/L={}/T={:.4f}.bin'.format(image_size, statistical_control_parameter), 'rb') as f:\n",
    "    X = np.frombuffer(buffer=f.read(), dtype=np.int8, offset=0).reshape(-1, image_size, image_size)\n",
    "\n",
    "idx = np.random.randint(X.shape[0])\n",
    "image = X[idx]"
   ]
  },
  {
   "cell_type": "code",
   "execution_count": 46,
   "metadata": {},
   "outputs": [
    {
     "data": {
      "text/plain": [
       "array([[ 1,  1],\n",
       "       [-1, -1]], dtype=int8)"
      ]
     },
     "execution_count": 46,
     "metadata": {},
     "output_type": "execute_result"
    }
   ],
   "source": [
    "image"
   ]
  },
  {
   "cell_type": "markdown",
   "metadata": {},
   "source": [
    "## NEQR Quantum encoding"
   ]
  },
  {
   "cell_type": "code",
   "execution_count": 88,
   "metadata": {},
   "outputs": [],
   "source": [
    "side_qubits = ceil(log2(image_size))\n",
    "image_qubits = 2 * side_qubits\n",
    "total_qubits = image_qubits + 1"
   ]
  },
  {
   "cell_type": "code",
   "execution_count": 85,
   "metadata": {},
   "outputs": [],
   "source": [
    "def binary_formatting(\n",
    "    digit: int,\n",
    "    n_bits: int,\n",
    "    reverse: bool = False,\n",
    ") -> str:\n",
    "    r\"\"\"\n",
    "    Args:\n",
    "        digit (int): number whose binary representation we are computing\n",
    "        n_bits (int): number of bits used in the binary representation (to handle left trailing zeros)\n",
    "        reverse (bool): optionally return the binary representation of digit in reverse order (for qiskit convention)\n",
    "    Returns:\n",
    "        (str): binary representation of digit\n",
    "    \"\"\"\n",
    "\n",
    "    binary = format(digit, '0{}b'.format(n_bits))\n",
    "\n",
    "    if reverse:\n",
    "        binary = binary[::-1]\n",
    "\n",
    "    return binary"
   ]
  },
  {
   "cell_type": "code",
   "execution_count": 86,
   "metadata": {},
   "outputs": [
    {
     "data": {
      "text/html": [
       "<pre style=\"word-wrap: normal;white-space: pre;background: #fff0;line-height: 1.1;font-family: &quot;Courier New&quot;,Courier,monospace\">           \n",
       "intensity: \n",
       "           \n",
       "    idx_0: \n",
       "           \n",
       "    idx_1: \n",
       "           \n",
       "     cr: 3/\n",
       "           </pre>"
      ],
      "text/plain": [
       "           \n",
       "intensity: \n",
       "           \n",
       "    idx_0: \n",
       "           \n",
       "    idx_1: \n",
       "           \n",
       "     cr: 3/\n",
       "           "
      ]
     },
     "execution_count": 86,
     "metadata": {},
     "output_type": "execute_result"
    }
   ],
   "source": [
    "# Initialize the quantum circuit for the image \n",
    "# Pixel position\n",
    "idx = QuantumRegister(image_qubits, 'idx')\n",
    "# grayscale pixel intensity value\n",
    "intensity = QuantumRegister(1,'intensity')\n",
    "# classical register\n",
    "cr = ClassicalRegister(image_qubits + 1, 'cr')\n",
    "\n",
    "# create the quantum circuit for the image\n",
    "qc_image = QuantumCircuit(intensity, idx, cr)\n",
    "\n",
    "# set the total number of qubits\n",
    "num_qubits = qc_image.num_qubits\n",
    "\n",
    "qc_image.draw()"
   ]
  },
  {
   "cell_type": "code",
   "execution_count": 87,
   "metadata": {},
   "outputs": [
    {
     "data": {
      "text/html": [
       "<pre style=\"word-wrap: normal;white-space: pre;background: #fff0;line-height: 1.1;font-family: &quot;Courier New&quot;,Courier,monospace\">           ┌───┐ ░ \n",
       "intensity: ┤ I ├─░─\n",
       "           ├───┤ ░ \n",
       "    idx_0: ┤ H ├─░─\n",
       "           ├───┤ ░ \n",
       "    idx_1: ┤ H ├─░─\n",
       "           └───┘ ░ \n",
       "     cr: 3/════════\n",
       "                   </pre>"
      ],
      "text/plain": [
       "           ┌───┐ ░ \n",
       "intensity: ┤ I ├─░─\n",
       "           ├───┤ ░ \n",
       "    idx_0: ┤ H ├─░─\n",
       "           ├───┤ ░ \n",
       "    idx_1: ┤ H ├─░─\n",
       "           └───┘ ░ \n",
       "     cr: 3/════════\n",
       "                   "
      ]
     },
     "execution_count": 87,
     "metadata": {},
     "output_type": "execute_result"
    }
   ],
   "source": [
    "# Initialize the quantum circuit\n",
    "\n",
    "# Optional: Add Identity gates to the intensity values\n",
    "for i in range(intensity.size):\n",
    "    qc_image.i(i)\n",
    "\n",
    "# Add Hadamard gates to the pixel positions    \n",
    "for i in range(1, idx.size + 1):\n",
    "    qc_image.h(i)\n",
    "\n",
    "# Separate with barrier so it is easy to read later.\n",
    "qc_image.barrier()\n",
    "qc_image.draw()"
   ]
  },
  {
   "cell_type": "code",
   "execution_count": 67,
   "metadata": {},
   "outputs": [
    {
     "ename": "CircuitError",
     "evalue": "'Index 3 out of range for size 3.'",
     "output_type": "error",
     "traceback": [
      "\u001b[0;31m---------------------------------------------------------------------------\u001b[0m",
      "\u001b[0;31mIndexError\u001b[0m                                Traceback (most recent call last)",
      "File \u001b[0;32m~/git_repositories/Ising-QIP/.env/lib/python3.8/site-packages/qiskit/circuit/quantumcircuit.py:4910\u001b[0m, in \u001b[0;36m_bit_argument_conversion\u001b[0;34m(specifier, bit_sequence, bit_set, type_)\u001b[0m\n\u001b[1;32m   4909\u001b[0m \u001b[39mtry\u001b[39;00m:\n\u001b[0;32m-> 4910\u001b[0m     \u001b[39mreturn\u001b[39;00m [bit_sequence[specifier]]\n\u001b[1;32m   4911\u001b[0m \u001b[39mexcept\u001b[39;00m \u001b[39mIndexError\u001b[39;00m \u001b[39mas\u001b[39;00m ex:\n",
      "\u001b[0;31mIndexError\u001b[0m: list index out of range",
      "\nThe above exception was the direct cause of the following exception:\n",
      "\u001b[0;31mCircuitError\u001b[0m                              Traceback (most recent call last)",
      "\u001b[1;32m/home/sarkis/git_repositories/Ising-QIP/src/qip/qip_ising.ipynb Cell 12\u001b[0m in \u001b[0;36m<cell line: 1>\u001b[0;34m()\u001b[0m\n\u001b[1;32m      <a href='vscode-notebook-cell:/home/sarkis/git_repositories/Ising-QIP/src/qip/qip_ising.ipynb#ch0000028?line=1'>2</a>\u001b[0m \u001b[39mfor\u001b[39;00m j \u001b[39min\u001b[39;00m \u001b[39mrange\u001b[39m(image_size):\n\u001b[1;32m      <a href='vscode-notebook-cell:/home/sarkis/git_repositories/Ising-QIP/src/qip/qip_ising.ipynb#ch0000028?line=3'>4</a>\u001b[0m     \u001b[39mif\u001b[39;00m image[i, j] \u001b[39m==\u001b[39m \u001b[39m1\u001b[39m:\n\u001b[0;32m----> <a href='vscode-notebook-cell:/home/sarkis/git_repositories/Ising-QIP/src/qip/qip_ising.ipynb#ch0000028?line=5'>6</a>\u001b[0m         qc_image\u001b[39m.\u001b[39;49mx(qc_image\u001b[39m.\u001b[39;49mnum_qubits\u001b[39m-\u001b[39;49mi)\n\u001b[1;32m      <a href='vscode-notebook-cell:/home/sarkis/git_repositories/Ising-QIP/src/qip/qip_ising.ipynb#ch0000028?line=6'>7</a>\u001b[0m         qc_image\u001b[39m.\u001b[39mx(qc_image\u001b[39m.\u001b[39mnum_qubits\u001b[39m-\u001b[39mi)\n",
      "File \u001b[0;32m~/git_repositories/Ising-QIP/.env/lib/python3.8/site-packages/qiskit/circuit/quantumcircuit.py:3783\u001b[0m, in \u001b[0;36mQuantumCircuit.x\u001b[0;34m(self, qubit, label)\u001b[0m\n\u001b[1;32m   3770\u001b[0m \u001b[39mr\u001b[39m\u001b[39m\"\"\"Apply :class:`~qiskit.circuit.library.XGate`.\u001b[39;00m\n\u001b[1;32m   3771\u001b[0m \n\u001b[1;32m   3772\u001b[0m \u001b[39mFor the full matrix form of this gate, see the underlying gate documentation.\u001b[39;00m\n\u001b[0;32m   (...)\u001b[0m\n\u001b[1;32m   3779\u001b[0m \u001b[39m    A handle to the instructions created.\u001b[39;00m\n\u001b[1;32m   3780\u001b[0m \u001b[39m\"\"\"\u001b[39;00m\n\u001b[1;32m   3781\u001b[0m \u001b[39mfrom\u001b[39;00m \u001b[39m.\u001b[39;00m\u001b[39mlibrary\u001b[39;00m\u001b[39m.\u001b[39;00m\u001b[39mstandard_gates\u001b[39;00m\u001b[39m.\u001b[39;00m\u001b[39mx\u001b[39;00m \u001b[39mimport\u001b[39;00m XGate\n\u001b[0;32m-> 3783\u001b[0m \u001b[39mreturn\u001b[39;00m \u001b[39mself\u001b[39;49m\u001b[39m.\u001b[39;49mappend(XGate(label\u001b[39m=\u001b[39;49mlabel), [qubit], [])\n",
      "File \u001b[0;32m~/git_repositories/Ising-QIP/.env/lib/python3.8/site-packages/qiskit/circuit/quantumcircuit.py:1269\u001b[0m, in \u001b[0;36mQuantumCircuit.append\u001b[0;34m(self, instruction, qargs, cargs)\u001b[0m\n\u001b[1;32m   1266\u001b[0m     \u001b[39mif\u001b[39;00m is_parameter:\n\u001b[1;32m   1267\u001b[0m         operation \u001b[39m=\u001b[39m copy\u001b[39m.\u001b[39mdeepcopy(operation)\n\u001b[0;32m-> 1269\u001b[0m expanded_qargs \u001b[39m=\u001b[39m [\u001b[39mself\u001b[39m\u001b[39m.\u001b[39mqbit_argument_conversion(qarg) \u001b[39mfor\u001b[39;00m qarg \u001b[39min\u001b[39;00m qargs \u001b[39mor\u001b[39;00m []]\n\u001b[1;32m   1270\u001b[0m expanded_cargs \u001b[39m=\u001b[39m [\u001b[39mself\u001b[39m\u001b[39m.\u001b[39mcbit_argument_conversion(carg) \u001b[39mfor\u001b[39;00m carg \u001b[39min\u001b[39;00m cargs \u001b[39mor\u001b[39;00m []]\n\u001b[1;32m   1272\u001b[0m \u001b[39mif\u001b[39;00m \u001b[39mself\u001b[39m\u001b[39m.\u001b[39m_control_flow_scopes:\n",
      "File \u001b[0;32m~/git_repositories/Ising-QIP/.env/lib/python3.8/site-packages/qiskit/circuit/quantumcircuit.py:1269\u001b[0m, in \u001b[0;36m<listcomp>\u001b[0;34m(.0)\u001b[0m\n\u001b[1;32m   1266\u001b[0m     \u001b[39mif\u001b[39;00m is_parameter:\n\u001b[1;32m   1267\u001b[0m         operation \u001b[39m=\u001b[39m copy\u001b[39m.\u001b[39mdeepcopy(operation)\n\u001b[0;32m-> 1269\u001b[0m expanded_qargs \u001b[39m=\u001b[39m [\u001b[39mself\u001b[39;49m\u001b[39m.\u001b[39;49mqbit_argument_conversion(qarg) \u001b[39mfor\u001b[39;00m qarg \u001b[39min\u001b[39;00m qargs \u001b[39mor\u001b[39;00m []]\n\u001b[1;32m   1270\u001b[0m expanded_cargs \u001b[39m=\u001b[39m [\u001b[39mself\u001b[39m\u001b[39m.\u001b[39mcbit_argument_conversion(carg) \u001b[39mfor\u001b[39;00m carg \u001b[39min\u001b[39;00m cargs \u001b[39mor\u001b[39;00m []]\n\u001b[1;32m   1272\u001b[0m \u001b[39mif\u001b[39;00m \u001b[39mself\u001b[39m\u001b[39m.\u001b[39m_control_flow_scopes:\n",
      "File \u001b[0;32m~/git_repositories/Ising-QIP/.env/lib/python3.8/site-packages/qiskit/circuit/quantumcircuit.py:1151\u001b[0m, in \u001b[0;36mQuantumCircuit.qbit_argument_conversion\u001b[0;34m(self, qubit_representation)\u001b[0m\n\u001b[1;32m   1140\u001b[0m \u001b[39mdef\u001b[39;00m \u001b[39mqbit_argument_conversion\u001b[39m(\u001b[39mself\u001b[39m, qubit_representation: QubitSpecifier) \u001b[39m-\u001b[39m\u001b[39m>\u001b[39m List[Qubit]:\n\u001b[1;32m   1141\u001b[0m     \u001b[39m\"\"\"\u001b[39;00m\n\u001b[1;32m   1142\u001b[0m \u001b[39m    Converts several qubit representations (such as indexes, range, etc.)\u001b[39;00m\n\u001b[1;32m   1143\u001b[0m \u001b[39m    into a list of qubits.\u001b[39;00m\n\u001b[0;32m   (...)\u001b[0m\n\u001b[1;32m   1149\u001b[0m \u001b[39m        List(Qubit): the resolved instances of the qubits.\u001b[39;00m\n\u001b[1;32m   1150\u001b[0m \u001b[39m    \"\"\"\u001b[39;00m\n\u001b[0;32m-> 1151\u001b[0m     \u001b[39mreturn\u001b[39;00m _bit_argument_conversion(\n\u001b[1;32m   1152\u001b[0m         qubit_representation, \u001b[39mself\u001b[39;49m\u001b[39m.\u001b[39;49mqubits, \u001b[39mself\u001b[39;49m\u001b[39m.\u001b[39;49m_qubit_indices, Qubit\n\u001b[1;32m   1153\u001b[0m     )\n",
      "File \u001b[0;32m~/git_repositories/Ising-QIP/.env/lib/python3.8/site-packages/qiskit/circuit/quantumcircuit.py:4912\u001b[0m, in \u001b[0;36m_bit_argument_conversion\u001b[0;34m(specifier, bit_sequence, bit_set, type_)\u001b[0m\n\u001b[1;32m   4910\u001b[0m         \u001b[39mreturn\u001b[39;00m [bit_sequence[specifier]]\n\u001b[1;32m   4911\u001b[0m     \u001b[39mexcept\u001b[39;00m \u001b[39mIndexError\u001b[39;00m \u001b[39mas\u001b[39;00m ex:\n\u001b[0;32m-> 4912\u001b[0m         \u001b[39mraise\u001b[39;00m CircuitError(\n\u001b[1;32m   4913\u001b[0m             \u001b[39mf\u001b[39m\u001b[39m\"\u001b[39m\u001b[39mIndex \u001b[39m\u001b[39m{\u001b[39;00mspecifier\u001b[39m}\u001b[39;00m\u001b[39m out of range for size \u001b[39m\u001b[39m{\u001b[39;00m\u001b[39mlen\u001b[39m(bit_sequence)\u001b[39m}\u001b[39;00m\u001b[39m.\u001b[39m\u001b[39m\"\u001b[39m\n\u001b[1;32m   4914\u001b[0m         ) \u001b[39mfrom\u001b[39;00m \u001b[39mex\u001b[39;00m\n\u001b[1;32m   4915\u001b[0m \u001b[39m# Slices can't raise IndexError - they just return an empty list.\u001b[39;00m\n\u001b[1;32m   4916\u001b[0m \u001b[39mif\u001b[39;00m \u001b[39misinstance\u001b[39m(specifier, \u001b[39mslice\u001b[39m):\n",
      "\u001b[0;31mCircuitError\u001b[0m: 'Index 3 out of range for size 3.'"
     ]
    }
   ],
   "source": [
    "for i in range(image_size):\n",
    "    for j in range(image_size):\n",
    "\n",
    "        if image[i, j] == 1:\n",
    "\n",
    "            binarized_i = binary_formatting(digit=i, n_bits=side_qubits, reverse=False)\n",
    "            binarized_j = binary_formatting(digit=j, n_bits=side_qubits, reverse=False)\n",
    "\n",
    "            \n",
    "\n",
    "            qc_image.x(qc_image.num_qubits-i)\n",
    "            qc_image.x(qc_image.num_qubits-i)\n",
    "\n",
    "            \n",
    "        "
   ]
  },
  {
   "cell_type": "code",
   "execution_count": 77,
   "metadata": {},
   "outputs": [],
   "source": []
  },
  {
   "cell_type": "code",
   "execution_count": 66,
   "metadata": {},
   "outputs": [
    {
     "data": {
      "text/html": [
       "<pre style=\"word-wrap: normal;white-space: pre;background: #fff0;line-height: 1.1;font-family: &quot;Courier New&quot;,Courier,monospace\">           ┌───┐ ░ ┌───┐ ░ \n",
       "intensity: ┤ I ├─░─┤ I ├─░─\n",
       "           ├───┤ ░ ├───┤ ░ \n",
       "    idx_0: ┤ H ├─░─┤ I ├─░─\n",
       "           ├───┤ ░ ├───┤ ░ \n",
       "    idx_1: ┤ H ├─░─┤ I ├─░─\n",
       "           └───┘ ░ └───┘ ░ \n",
       "     cr: 3/════════════════\n",
       "                           </pre>"
      ],
      "text/plain": [
       "           ┌───┐ ░ ┌───┐ ░ \n",
       "intensity: ┤ I ├─░─┤ I ├─░─\n",
       "           ├───┤ ░ ├───┤ ░ \n",
       "    idx_0: ┤ H ├─░─┤ I ├─░─\n",
       "           ├───┤ ░ ├───┤ ░ \n",
       "    idx_1: ┤ H ├─░─┤ I ├─░─\n",
       "           └───┘ ░ └───┘ ░ \n",
       "     cr: 3/════════════════\n",
       "                           "
      ]
     },
     "execution_count": 66,
     "metadata": {},
     "output_type": "execute_result"
    }
   ],
   "source": [
    "# Encode the first pixel, since its value is 0, we will apply ID gates here:\n",
    "for idx in range(total_qubits):\n",
    "    qc_image.i(idx)\n",
    "\n",
    "qc_image.barrier()\n",
    "qc_image.draw()"
   ]
  },
  {
   "cell_type": "markdown",
   "metadata": {},
   "source": [
    "We will assign |0> to a -1 spin and |1> to a +1 spin."
   ]
  },
  {
   "cell_type": "code",
   "execution_count": 60,
   "metadata": {},
   "outputs": [
    {
     "ename": "CircuitError",
     "evalue": "'duplicate qubit arguments'",
     "output_type": "error",
     "traceback": [
      "\u001b[0;31m---------------------------------------------------------------------------\u001b[0m",
      "\u001b[0;31mCircuitError\u001b[0m                              Traceback (most recent call last)",
      "\u001b[1;32m/home/sarkis/git_repositories/Ising-QIP/src/qip/qip_ising.ipynb Cell 15\u001b[0m in \u001b[0;36m<cell line: 9>\u001b[0;34m()\u001b[0m\n\u001b[1;32m      <a href='vscode-notebook-cell:/home/sarkis/git_repositories/Ising-QIP/src/qip/qip_ising.ipynb#ch0000015?line=7'>8</a>\u001b[0m \u001b[39m# We'll reverse order the value so it is in the same order when measured.\u001b[39;00m\n\u001b[1;32m      <a href='vscode-notebook-cell:/home/sarkis/git_repositories/Ising-QIP/src/qip/qip_ising.ipynb#ch0000015?line=8'>9</a>\u001b[0m \u001b[39mif\u001b[39;00m(value01\u001b[39m==\u001b[39m\u001b[39m1\u001b[39m):\n\u001b[0;32m---> <a href='vscode-notebook-cell:/home/sarkis/git_repositories/Ising-QIP/src/qip/qip_ising.ipynb#ch0000015?line=9'>10</a>\u001b[0m     qc_image\u001b[39m.\u001b[39;49mccx(num_qubits\u001b[39m-\u001b[39;49m\u001b[39m1\u001b[39;49m, num_qubits\u001b[39m-\u001b[39;49m\u001b[39m2\u001b[39;49m, idx)\n\u001b[1;32m     <a href='vscode-notebook-cell:/home/sarkis/git_repositories/Ising-QIP/src/qip/qip_ising.ipynb#ch0000015?line=11'>12</a>\u001b[0m \u001b[39m# Reset the NOT gate\u001b[39;00m\n\u001b[1;32m     <a href='vscode-notebook-cell:/home/sarkis/git_repositories/Ising-QIP/src/qip/qip_ising.ipynb#ch0000015?line=12'>13</a>\u001b[0m qc_image\u001b[39m.\u001b[39mx(num_qubits\u001b[39m-\u001b[39m\u001b[39m1\u001b[39m)\n",
      "File \u001b[0;32m~/git_repositories/Ising-QIP/.env/lib/python3.8/site-packages/qiskit/circuit/quantumcircuit.py:3881\u001b[0m, in \u001b[0;36mQuantumCircuit.ccx\u001b[0;34m(self, control_qubit1, control_qubit2, target_qubit, ctrl_state)\u001b[0m\n\u001b[1;32m   3864\u001b[0m \u001b[39mr\u001b[39m\u001b[39m\"\"\"Apply :class:`~qiskit.circuit.library.CCXGate`.\u001b[39;00m\n\u001b[1;32m   3865\u001b[0m \n\u001b[1;32m   3866\u001b[0m \u001b[39mFor the full matrix form of this gate, see the underlying gate documentation.\u001b[39;00m\n\u001b[0;32m   (...)\u001b[0m\n\u001b[1;32m   3877\u001b[0m \u001b[39m    A handle to the instructions created.\u001b[39;00m\n\u001b[1;32m   3878\u001b[0m \u001b[39m\"\"\"\u001b[39;00m\n\u001b[1;32m   3879\u001b[0m \u001b[39mfrom\u001b[39;00m \u001b[39m.\u001b[39;00m\u001b[39mlibrary\u001b[39;00m\u001b[39m.\u001b[39;00m\u001b[39mstandard_gates\u001b[39;00m\u001b[39m.\u001b[39;00m\u001b[39mx\u001b[39;00m \u001b[39mimport\u001b[39;00m CCXGate\n\u001b[0;32m-> 3881\u001b[0m \u001b[39mreturn\u001b[39;00m \u001b[39mself\u001b[39;49m\u001b[39m.\u001b[39;49mappend(\n\u001b[1;32m   3882\u001b[0m     CCXGate(ctrl_state\u001b[39m=\u001b[39;49mctrl_state),\n\u001b[1;32m   3883\u001b[0m     [control_qubit1, control_qubit2, target_qubit],\n\u001b[1;32m   3884\u001b[0m     [],\n\u001b[1;32m   3885\u001b[0m )\n",
      "File \u001b[0;32m~/git_repositories/Ising-QIP/.env/lib/python3.8/site-packages/qiskit/circuit/quantumcircuit.py:1280\u001b[0m, in \u001b[0;36mQuantumCircuit.append\u001b[0;34m(self, instruction, qargs, cargs)\u001b[0m\n\u001b[1;32m   1278\u001b[0m instructions \u001b[39m=\u001b[39m InstructionSet(resource_requester\u001b[39m=\u001b[39mrequester)\n\u001b[1;32m   1279\u001b[0m \u001b[39mfor\u001b[39;00m qarg, carg \u001b[39min\u001b[39;00m operation\u001b[39m.\u001b[39mbroadcast_arguments(expanded_qargs, expanded_cargs):\n\u001b[0;32m-> 1280\u001b[0m     \u001b[39mself\u001b[39;49m\u001b[39m.\u001b[39;49m_check_dups(qarg)\n\u001b[1;32m   1281\u001b[0m     instruction \u001b[39m=\u001b[39m CircuitInstruction(operation, qarg, carg)\n\u001b[1;32m   1282\u001b[0m     appender(instruction)\n",
      "File \u001b[0;32m~/git_repositories/Ising-QIP/.env/lib/python3.8/site-packages/qiskit/circuit/quantumcircuit.py:1495\u001b[0m, in \u001b[0;36mQuantumCircuit._check_dups\u001b[0;34m(self, qubits)\u001b[0m\n\u001b[1;32m   1493\u001b[0m squbits \u001b[39m=\u001b[39m \u001b[39mset\u001b[39m(qubits)\n\u001b[1;32m   1494\u001b[0m \u001b[39mif\u001b[39;00m \u001b[39mlen\u001b[39m(squbits) \u001b[39m!=\u001b[39m \u001b[39mlen\u001b[39m(qubits):\n\u001b[0;32m-> 1495\u001b[0m     \u001b[39mraise\u001b[39;00m CircuitError(\u001b[39m\"\u001b[39m\u001b[39mduplicate qubit arguments\u001b[39m\u001b[39m\"\u001b[39m)\n",
      "\u001b[0;31mCircuitError\u001b[0m: 'duplicate qubit arguments'"
     ]
    }
   ],
   "source": [
    "# Encode the second pixel whose value is (01100100):\n",
    "value01 = '01100100'\n",
    "\n",
    "# Add the NOT gate to set the position at 01:\n",
    "qc_image.x(qc_image.num_qubits-1)\n",
    "\n",
    "# We'll reverse order the value so it is in the same order when measured.\n",
    "for idx, px_value in enumerate(value01[::-1]):\n",
    "    if(px_value=='1'):\n",
    "        qc_image.ccx(num_qubits-1, num_qubits-2, idx)\n",
    "\n",
    "# Reset the NOT gate\n",
    "qc_image.x(num_qubits-1)\n",
    "\n",
    "qc_image.barrier()\n",
    "qc_image.draw()"
   ]
  },
  {
   "cell_type": "code",
   "execution_count": 31,
   "metadata": {},
   "outputs": [
    {
     "data": {
      "text/html": [
       "<pre style=\"word-wrap: normal;white-space: pre;background: #fff0;line-height: 1.1;font-family: &quot;Courier New&quot;,Courier,monospace\">             ┌───┐ ░ ┌───┐ ░                           ░                     »\n",
       "intensity_0: ┤ I ├─░─┤ I ├─░───────────────────────────░─────────────────────»\n",
       "             ├───┤ ░ ├───┤ ░                           ░                     »\n",
       "intensity_1: ┤ I ├─░─┤ I ├─░───────────────────────────░─────────────────────»\n",
       "             ├───┤ ░ ├───┤ ░      ┌───┐                ░                     »\n",
       "intensity_2: ┤ I ├─░─┤ I ├─░──────┤ X ├────────────────░─────────────────────»\n",
       "             ├───┤ ░ ├───┤ ░      └─┬─┘                ░      ┌───┐          »\n",
       "intensity_3: ┤ I ├─░─┤ I ├─░────────┼──────────────────░──────┤ X ├──────────»\n",
       "             ├───┤ ░ ├───┤ ░        │                  ░      └─┬─┘          »\n",
       "intensity_4: ┤ I ├─░─┤ I ├─░────────┼──────────────────░────────┼────────────»\n",
       "             ├───┤ ░ ├───┤ ░        │  ┌───┐           ░        │            »\n",
       "intensity_5: ┤ I ├─░─┤ I ├─░────────┼──┤ X ├───────────░────────┼────────────»\n",
       "             ├───┤ ░ ├───┤ ░        │  └─┬─┘┌───┐      ░        │  ┌───┐     »\n",
       "intensity_6: ┤ I ├─░─┤ I ├─░────────┼────┼──┤ X ├──────░────────┼──┤ X ├─────»\n",
       "             ├───┤ ░ ├───┤ ░        │    │  └─┬─┘      ░        │  └─┬─┘┌───┐»\n",
       "intensity_7: ┤ I ├─░─┤ I ├─░────────┼────┼────┼────────░────────┼────┼──┤ X ├»\n",
       "             ├───┤ ░ ├───┤ ░        │    │    │        ░ ┌───┐  │    │  └─┬─┘»\n",
       "      idx_0: ┤ H ├─░─┤ I ├─░────────■────■────■────────░─┤ X ├──■────■────■──»\n",
       "             ├───┤ ░ ├───┤ ░ ┌───┐  │    │    │  ┌───┐ ░ └───┘  │    │    │  »\n",
       "      idx_1: ┤ H ├─░─┤ I ├─░─┤ X ├──■────■────■──┤ X ├─░────────■────■────■──»\n",
       "             └───┘ ░ └───┘ ░ └───┘               └───┘ ░                     »\n",
       "      cr: 10/════════════════════════════════════════════════════════════════»\n",
       "                                                                             »\n",
       "«                   ░ \n",
       "«intensity_0: ──────░─\n",
       "«                   ░ \n",
       "«intensity_1: ──────░─\n",
       "«                   ░ \n",
       "«intensity_2: ──────░─\n",
       "«                   ░ \n",
       "«intensity_3: ──────░─\n",
       "«                   ░ \n",
       "«intensity_4: ──────░─\n",
       "«                   ░ \n",
       "«intensity_5: ──────░─\n",
       "«                   ░ \n",
       "«intensity_6: ──────░─\n",
       "«                   ░ \n",
       "«intensity_7: ──────░─\n",
       "«             ┌───┐ ░ \n",
       "«      idx_0: ┤ X ├─░─\n",
       "«             └───┘ ░ \n",
       "«      idx_1: ──────░─\n",
       "«                   ░ \n",
       "«      cr: 10/════════\n",
       "«                     </pre>"
      ],
      "text/plain": [
       "             ┌───┐ ░ ┌───┐ ░                           ░                     »\n",
       "intensity_0: ┤ I ├─░─┤ I ├─░───────────────────────────░─────────────────────»\n",
       "             ├───┤ ░ ├───┤ ░                           ░                     »\n",
       "intensity_1: ┤ I ├─░─┤ I ├─░───────────────────────────░─────────────────────»\n",
       "             ├───┤ ░ ├───┤ ░      ┌───┐                ░                     »\n",
       "intensity_2: ┤ I ├─░─┤ I ├─░──────┤ X ├────────────────░─────────────────────»\n",
       "             ├───┤ ░ ├───┤ ░      └─┬─┘                ░      ┌───┐          »\n",
       "intensity_3: ┤ I ├─░─┤ I ├─░────────┼──────────────────░──────┤ X ├──────────»\n",
       "             ├───┤ ░ ├───┤ ░        │                  ░      └─┬─┘          »\n",
       "intensity_4: ┤ I ├─░─┤ I ├─░────────┼──────────────────░────────┼────────────»\n",
       "             ├───┤ ░ ├───┤ ░        │  ┌───┐           ░        │            »\n",
       "intensity_5: ┤ I ├─░─┤ I ├─░────────┼──┤ X ├───────────░────────┼────────────»\n",
       "             ├───┤ ░ ├───┤ ░        │  └─┬─┘┌───┐      ░        │  ┌───┐     »\n",
       "intensity_6: ┤ I ├─░─┤ I ├─░────────┼────┼──┤ X ├──────░────────┼──┤ X ├─────»\n",
       "             ├───┤ ░ ├───┤ ░        │    │  └─┬─┘      ░        │  └─┬─┘┌───┐»\n",
       "intensity_7: ┤ I ├─░─┤ I ├─░────────┼────┼────┼────────░────────┼────┼──┤ X ├»\n",
       "             ├───┤ ░ ├───┤ ░        │    │    │        ░ ┌───┐  │    │  └─┬─┘»\n",
       "      idx_0: ┤ H ├─░─┤ I ├─░────────■────■────■────────░─┤ X ├──■────■────■──»\n",
       "             ├───┤ ░ ├───┤ ░ ┌───┐  │    │    │  ┌───┐ ░ └───┘  │    │    │  »\n",
       "      idx_1: ┤ H ├─░─┤ I ├─░─┤ X ├──■────■────■──┤ X ├─░────────■────■────■──»\n",
       "             └───┘ ░ └───┘ ░ └───┘               └───┘ ░                     »\n",
       "      cr: 10/════════════════════════════════════════════════════════════════»\n",
       "                                                                             »\n",
       "«                   ░ \n",
       "«intensity_0: ──────░─\n",
       "«                   ░ \n",
       "«intensity_1: ──────░─\n",
       "«                   ░ \n",
       "«intensity_2: ──────░─\n",
       "«                   ░ \n",
       "«intensity_3: ──────░─\n",
       "«                   ░ \n",
       "«intensity_4: ──────░─\n",
       "«                   ░ \n",
       "«intensity_5: ──────░─\n",
       "«                   ░ \n",
       "«intensity_6: ──────░─\n",
       "«                   ░ \n",
       "«intensity_7: ──────░─\n",
       "«             ┌───┐ ░ \n",
       "«      idx_0: ┤ X ├─░─\n",
       "«             └───┘ ░ \n",
       "«      idx_1: ──────░─\n",
       "«                   ░ \n",
       "«      cr: 10/════════\n",
       "«                     "
      ]
     },
     "execution_count": 31,
     "metadata": {},
     "output_type": "execute_result"
    }
   ],
   "source": [
    "# Encode the third pixel whose value is (11001000):\n",
    "value10 = '11001000'\n",
    "\n",
    "# Add the 0CNOT gates, where 0 is on X pixel:\n",
    "qc_image.x(num_qubits-2)\n",
    "for idx, px_value in enumerate(value10[::-1]):\n",
    "    if(px_value=='1'):\n",
    "        qc_image.ccx(num_qubits-1, num_qubits-2, idx)\n",
    "qc_image.x(num_qubits-2)\n",
    "\n",
    "\n",
    "qc_image.barrier()\n",
    "qc_image.draw()"
   ]
  },
  {
   "cell_type": "code",
   "execution_count": 32,
   "metadata": {},
   "outputs": [
    {
     "data": {
      "text/html": [
       "<pre style=\"word-wrap: normal;white-space: pre;background: #fff0;line-height: 1.1;font-family: &quot;Courier New&quot;,Courier,monospace\">             ┌───┐ ░ ┌───┐ ░                           ░                     »\n",
       "intensity_0: ┤ I ├─░─┤ I ├─░───────────────────────────░─────────────────────»\n",
       "             ├───┤ ░ ├───┤ ░                           ░                     »\n",
       "intensity_1: ┤ I ├─░─┤ I ├─░───────────────────────────░─────────────────────»\n",
       "             ├───┤ ░ ├───┤ ░      ┌───┐                ░                     »\n",
       "intensity_2: ┤ I ├─░─┤ I ├─░──────┤ X ├────────────────░─────────────────────»\n",
       "             ├───┤ ░ ├───┤ ░      └─┬─┘                ░      ┌───┐          »\n",
       "intensity_3: ┤ I ├─░─┤ I ├─░────────┼──────────────────░──────┤ X ├──────────»\n",
       "             ├───┤ ░ ├───┤ ░        │                  ░      └─┬─┘          »\n",
       "intensity_4: ┤ I ├─░─┤ I ├─░────────┼──────────────────░────────┼────────────»\n",
       "             ├───┤ ░ ├───┤ ░        │  ┌───┐           ░        │            »\n",
       "intensity_5: ┤ I ├─░─┤ I ├─░────────┼──┤ X ├───────────░────────┼────────────»\n",
       "             ├───┤ ░ ├───┤ ░        │  └─┬─┘┌───┐      ░        │  ┌───┐     »\n",
       "intensity_6: ┤ I ├─░─┤ I ├─░────────┼────┼──┤ X ├──────░────────┼──┤ X ├─────»\n",
       "             ├───┤ ░ ├───┤ ░        │    │  └─┬─┘      ░        │  └─┬─┘┌───┐»\n",
       "intensity_7: ┤ I ├─░─┤ I ├─░────────┼────┼────┼────────░────────┼────┼──┤ X ├»\n",
       "             ├───┤ ░ ├───┤ ░        │    │    │        ░ ┌───┐  │    │  └─┬─┘»\n",
       "      idx_0: ┤ H ├─░─┤ I ├─░────────■────■────■────────░─┤ X ├──■────■────■──»\n",
       "             ├───┤ ░ ├───┤ ░ ┌───┐  │    │    │  ┌───┐ ░ └───┘  │    │    │  »\n",
       "      idx_1: ┤ H ├─░─┤ I ├─░─┤ X ├──■────■────■──┤ X ├─░────────■────■────■──»\n",
       "             └───┘ ░ └───┘ ░ └───┘               └───┘ ░                     »\n",
       "      cr: 10/════════════════════════════════════════════════════════════════»\n",
       "                                                                             »\n",
       "«                   ░ ┌───┐                                    ░ ┌─┐         »\n",
       "«intensity_0: ──────░─┤ X ├────────────────────────────────────░─┤M├─────────»\n",
       "«                   ░ └─┬─┘┌───┐                               ░ └╥┘┌─┐      »\n",
       "«intensity_1: ──────░───┼──┤ X ├───────────────────────────────░──╫─┤M├──────»\n",
       "«                   ░   │  └─┬─┘┌───┐                          ░  ║ └╥┘┌─┐   »\n",
       "«intensity_2: ──────░───┼────┼──┤ X ├──────────────────────────░──╫──╫─┤M├───»\n",
       "«                   ░   │    │  └─┬─┘┌───┐                     ░  ║  ║ └╥┘┌─┐»\n",
       "«intensity_3: ──────░───┼────┼────┼──┤ X ├─────────────────────░──╫──╫──╫─┤M├»\n",
       "«                   ░   │    │    │  └─┬─┘┌───┐                ░  ║  ║  ║ └╥┘»\n",
       "«intensity_4: ──────░───┼────┼────┼────┼──┤ X ├────────────────░──╫──╫──╫──╫─»\n",
       "«                   ░   │    │    │    │  └─┬─┘┌───┐           ░  ║  ║  ║  ║ »\n",
       "«intensity_5: ──────░───┼────┼────┼────┼────┼──┤ X ├───────────░──╫──╫──╫──╫─»\n",
       "«                   ░   │    │    │    │    │  └─┬─┘┌───┐      ░  ║  ║  ║  ║ »\n",
       "«intensity_6: ──────░───┼────┼────┼────┼────┼────┼──┤ X ├──────░──╫──╫──╫──╫─»\n",
       "«                   ░   │    │    │    │    │    │  └─┬─┘┌───┐ ░  ║  ║  ║  ║ »\n",
       "«intensity_7: ──────░───┼────┼────┼────┼────┼────┼────┼──┤ X ├─░──╫──╫──╫──╫─»\n",
       "«             ┌───┐ ░   │    │    │    │    │    │    │  └─┬─┘ ░  ║  ║  ║  ║ »\n",
       "«      idx_0: ┤ X ├─░───■────■────■────■────■────■────■────■───░──╫──╫──╫──╫─»\n",
       "«             └───┘ ░   │    │    │    │    │    │    │    │   ░  ║  ║  ║  ║ »\n",
       "«      idx_1: ──────░───■────■────■────■────■────■────■────■───░──╫──╫──╫──╫─»\n",
       "«                   ░                                          ░  ║  ║  ║  ║ »\n",
       "«      cr: 10/════════════════════════════════════════════════════╩══╩══╩══╩═»\n",
       "«                                                                 0  1  2  3 »\n",
       "«                               \n",
       "«intensity_0: ──────────────────\n",
       "«                               \n",
       "«intensity_1: ──────────────────\n",
       "«                               \n",
       "«intensity_2: ──────────────────\n",
       "«                               \n",
       "«intensity_3: ──────────────────\n",
       "«             ┌─┐               \n",
       "«intensity_4: ┤M├───────────────\n",
       "«             └╥┘┌─┐            \n",
       "«intensity_5: ─╫─┤M├────────────\n",
       "«              ║ └╥┘┌─┐         \n",
       "«intensity_6: ─╫──╫─┤M├─────────\n",
       "«              ║  ║ └╥┘┌─┐      \n",
       "«intensity_7: ─╫──╫──╫─┤M├──────\n",
       "«              ║  ║  ║ └╥┘┌─┐   \n",
       "«      idx_0: ─╫──╫──╫──╫─┤M├───\n",
       "«              ║  ║  ║  ║ └╥┘┌─┐\n",
       "«      idx_1: ─╫──╫──╫──╫──╫─┤M├\n",
       "«              ║  ║  ║  ║  ║ └╥┘\n",
       "«      cr: 10/═╩══╩══╩══╩══╩══╩═\n",
       "«              4  5  6  7  8  9 </pre>"
      ],
      "text/plain": [
       "             ┌───┐ ░ ┌───┐ ░                           ░                     »\n",
       "intensity_0: ┤ I ├─░─┤ I ├─░───────────────────────────░─────────────────────»\n",
       "             ├───┤ ░ ├───┤ ░                           ░                     »\n",
       "intensity_1: ┤ I ├─░─┤ I ├─░───────────────────────────░─────────────────────»\n",
       "             ├───┤ ░ ├───┤ ░      ┌───┐                ░                     »\n",
       "intensity_2: ┤ I ├─░─┤ I ├─░──────┤ X ├────────────────░─────────────────────»\n",
       "             ├───┤ ░ ├───┤ ░      └─┬─┘                ░      ┌───┐          »\n",
       "intensity_3: ┤ I ├─░─┤ I ├─░────────┼──────────────────░──────┤ X ├──────────»\n",
       "             ├───┤ ░ ├───┤ ░        │                  ░      └─┬─┘          »\n",
       "intensity_4: ┤ I ├─░─┤ I ├─░────────┼──────────────────░────────┼────────────»\n",
       "             ├───┤ ░ ├───┤ ░        │  ┌───┐           ░        │            »\n",
       "intensity_5: ┤ I ├─░─┤ I ├─░────────┼──┤ X ├───────────░────────┼────────────»\n",
       "             ├───┤ ░ ├───┤ ░        │  └─┬─┘┌───┐      ░        │  ┌───┐     »\n",
       "intensity_6: ┤ I ├─░─┤ I ├─░────────┼────┼──┤ X ├──────░────────┼──┤ X ├─────»\n",
       "             ├───┤ ░ ├───┤ ░        │    │  └─┬─┘      ░        │  └─┬─┘┌───┐»\n",
       "intensity_7: ┤ I ├─░─┤ I ├─░────────┼────┼────┼────────░────────┼────┼──┤ X ├»\n",
       "             ├───┤ ░ ├───┤ ░        │    │    │        ░ ┌───┐  │    │  └─┬─┘»\n",
       "      idx_0: ┤ H ├─░─┤ I ├─░────────■────■────■────────░─┤ X ├──■────■────■──»\n",
       "             ├───┤ ░ ├───┤ ░ ┌───┐  │    │    │  ┌───┐ ░ └───┘  │    │    │  »\n",
       "      idx_1: ┤ H ├─░─┤ I ├─░─┤ X ├──■────■────■──┤ X ├─░────────■────■────■──»\n",
       "             └───┘ ░ └───┘ ░ └───┘               └───┘ ░                     »\n",
       "      cr: 10/════════════════════════════════════════════════════════════════»\n",
       "                                                                             »\n",
       "«                   ░ ┌───┐                                    ░ ┌─┐         »\n",
       "«intensity_0: ──────░─┤ X ├────────────────────────────────────░─┤M├─────────»\n",
       "«                   ░ └─┬─┘┌───┐                               ░ └╥┘┌─┐      »\n",
       "«intensity_1: ──────░───┼──┤ X ├───────────────────────────────░──╫─┤M├──────»\n",
       "«                   ░   │  └─┬─┘┌───┐                          ░  ║ └╥┘┌─┐   »\n",
       "«intensity_2: ──────░───┼────┼──┤ X ├──────────────────────────░──╫──╫─┤M├───»\n",
       "«                   ░   │    │  └─┬─┘┌───┐                     ░  ║  ║ └╥┘┌─┐»\n",
       "«intensity_3: ──────░───┼────┼────┼──┤ X ├─────────────────────░──╫──╫──╫─┤M├»\n",
       "«                   ░   │    │    │  └─┬─┘┌───┐                ░  ║  ║  ║ └╥┘»\n",
       "«intensity_4: ──────░───┼────┼────┼────┼──┤ X ├────────────────░──╫──╫──╫──╫─»\n",
       "«                   ░   │    │    │    │  └─┬─┘┌───┐           ░  ║  ║  ║  ║ »\n",
       "«intensity_5: ──────░───┼────┼────┼────┼────┼──┤ X ├───────────░──╫──╫──╫──╫─»\n",
       "«                   ░   │    │    │    │    │  └─┬─┘┌───┐      ░  ║  ║  ║  ║ »\n",
       "«intensity_6: ──────░───┼────┼────┼────┼────┼────┼──┤ X ├──────░──╫──╫──╫──╫─»\n",
       "«                   ░   │    │    │    │    │    │  └─┬─┘┌───┐ ░  ║  ║  ║  ║ »\n",
       "«intensity_7: ──────░───┼────┼────┼────┼────┼────┼────┼──┤ X ├─░──╫──╫──╫──╫─»\n",
       "«             ┌───┐ ░   │    │    │    │    │    │    │  └─┬─┘ ░  ║  ║  ║  ║ »\n",
       "«      idx_0: ┤ X ├─░───■────■────■────■────■────■────■────■───░──╫──╫──╫──╫─»\n",
       "«             └───┘ ░   │    │    │    │    │    │    │    │   ░  ║  ║  ║  ║ »\n",
       "«      idx_1: ──────░───■────■────■────■────■────■────■────■───░──╫──╫──╫──╫─»\n",
       "«                   ░                                          ░  ║  ║  ║  ║ »\n",
       "«      cr: 10/════════════════════════════════════════════════════╩══╩══╩══╩═»\n",
       "«                                                                 0  1  2  3 »\n",
       "«                               \n",
       "«intensity_0: ──────────────────\n",
       "«                               \n",
       "«intensity_1: ──────────────────\n",
       "«                               \n",
       "«intensity_2: ──────────────────\n",
       "«                               \n",
       "«intensity_3: ──────────────────\n",
       "«             ┌─┐               \n",
       "«intensity_4: ┤M├───────────────\n",
       "«             └╥┘┌─┐            \n",
       "«intensity_5: ─╫─┤M├────────────\n",
       "«              ║ └╥┘┌─┐         \n",
       "«intensity_6: ─╫──╫─┤M├─────────\n",
       "«              ║  ║ └╥┘┌─┐      \n",
       "«intensity_7: ─╫──╫──╫─┤M├──────\n",
       "«              ║  ║  ║ └╥┘┌─┐   \n",
       "«      idx_0: ─╫──╫──╫──╫─┤M├───\n",
       "«              ║  ║  ║  ║ └╥┘┌─┐\n",
       "«      idx_1: ─╫──╫──╫──╫──╫─┤M├\n",
       "«              ║  ║  ║  ║  ║ └╥┘\n",
       "«      cr: 10/═╩══╩══╩══╩══╩══╩═\n",
       "«              4  5  6  7  8  9 "
      ]
     },
     "execution_count": 32,
     "metadata": {},
     "output_type": "execute_result"
    }
   ],
   "source": [
    "# Encode the third pixel whose value is (10101010):\n",
    "value11 = '11111111'\n",
    "\n",
    "# Add the CCNOT gates:\n",
    "for idx, px_value in enumerate(value11):\n",
    "    if(px_value=='1'):\n",
    "        qc_image.ccx(num_qubits-1,num_qubits-2, idx)\n",
    "\n",
    "qc_image.barrier()\n",
    "qc_image.measure(range(10),range(10))\n",
    "qc_image.draw()"
   ]
  },
  {
   "cell_type": "code",
   "execution_count": 33,
   "metadata": {},
   "outputs": [
    {
     "name": "stdout",
     "output_type": "stream",
     "text": [
      "Circuit dimensions\n",
      "Circuit depth:  148\n",
      "Circuit size:  244\n"
     ]
    },
    {
     "data": {
      "text/plain": [
       "OrderedDict([('cx', 84),\n",
       "             ('t', 56),\n",
       "             ('tdg', 42),\n",
       "             ('h', 28),\n",
       "             ('id', 18),\n",
       "             ('measure', 10),\n",
       "             ('barrier', 5),\n",
       "             ('u3', 4),\n",
       "             ('u2', 2)])"
      ]
     },
     "execution_count": 33,
     "metadata": {},
     "output_type": "execute_result"
    }
   ],
   "source": [
    "print('Circuit dimensions')\n",
    "print('Circuit depth: ', qc_image.decompose().depth())\n",
    "print('Circuit size: ', qc_image.decompose().size())\n",
    "\n",
    "qc_image.decompose().count_ops()"
   ]
  },
  {
   "cell_type": "code",
   "execution_count": 34,
   "metadata": {},
   "outputs": [
    {
     "name": "stdout",
     "output_type": "stream",
     "text": [
      "Encoded: 00 = 0\n",
      "Encoded: 01 = 01100100\n",
      "Encoded: 10 = 11001000\n",
      "Encoded: 11 = 1\n",
      "{'1111111111': 2029, '1011001000': 1996, '0101100100': 2078, '0000000000': 2089}\n"
     ]
    },
    {
     "data": {
      "image/png": "[encoded data removed]",
      "text/plain": [
       "<Figure size 504x360 with 1 Axes>"
      ]
     },
     "execution_count": 34,
     "metadata": {},
     "output_type": "execute_result"
    }
   ],
   "source": [
    "aer_sim = Aer.get_backend('aer_simulator')\n",
    "t_qc_image = transpile(qc_image, aer_sim)\n",
    "qobj = assemble(t_qc_image, shots=8192)\n",
    "job_neqr = aer_sim.run(qobj)\n",
    "result_neqr = job_neqr.result()\n",
    "counts_neqr = result_neqr.get_counts()\n",
    "print('Encoded: 00 = 0')\n",
    "print('Encoded: 01 = 01100100')\n",
    "print('Encoded: 10 = 11001000')\n",
    "print('Encoded: 11 = 1')\n",
    "\n",
    "print(counts_neqr)\n",
    "plot_histogram(counts_neqr)"
   ]
  },
  {
   "cell_type": "code",
   "execution_count": null,
   "metadata": {},
   "outputs": [],
   "source": []
  }
 ],
 "metadata": {
  "kernelspec": {
   "display_name": "Python 3.8.10 ('.env': venv)",
   "language": "python",
   "name": "python3"
  },
  "language_info": {
   "codemirror_mode": {
    "name": "ipython",
    "version": 3
   },
   "file_extension": ".py",
   "mimetype": "text/x-python",
   "name": "python",
   "nbconvert_exporter": "python",
   "pygments_lexer": "ipython3",
   "version": "3.8.10"
  },
  "orig_nbformat": 4,
  "vscode": {
   "interpreter": {
    "hash": "33961fe1d30a6980b63fb3ee9f06858e7549d0e07d79c812b15b89535314c286"
   }
  }
 },
 "nbformat": 4,
 "nbformat_minor": 2
}
